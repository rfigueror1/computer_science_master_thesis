{
 "cells": [
  {
   "cell_type": "code",
   "execution_count": null,
   "metadata": {},
   "outputs": [],
   "source": [
    "import matplotlib\n",
    "from matplotlib.ticker import PercentFormatter\n",
    "import csv\n",
    "import os\n",
    "import sys\n",
    "scriptpath = \"./import_data\"\n",
    "# Add the directory containing your module to the Python path (wants absolute paths)\n",
    "sys.path.append(os.path.abspath(scriptpath))\n",
    "# Do the import\n",
    "import import_data"
   ]
  },
  {
   "cell_type": "code",
   "execution_count": null,
   "metadata": {},
   "outputs": [],
   "source": [
    "# Import data\n",
    "all_data = import_data.import_data()\n",
    "first_set_array = all_data[0]\n",
    "second_set_array = all_data[1]\n",
    "third_set_array = all_data[2]\n",
    "fourth_set_array = all_data[3]\n",
    "fifth_set_array = all_data[4]\n",
    "sixth_set_array = all_data[5]\n",
    "seventh_set_array = all_data[6]\n",
    "eight_set_array = all_data[7]"
   ]
  },
  {
   "cell_type": "markdown",
   "metadata": {},
   "source": [
    "## By set"
   ]
  },
  {
   "cell_type": "code",
   "execution_count": null,
   "metadata": {},
   "outputs": [],
   "source": [
    "def to_percent(y, position):\n",
    "    # Ignore the passed in position. This has the effect of scaling the default\n",
    "    # tick locations.\n",
    "    s = str(100 * y)\n",
    "    # The percent symbol needs escaping in latex\n",
    "    if matplotlib.rcParams['text.usetex'] is True:\n",
    "        return s + r'$\\%$'\n",
    "    else:\n",
    "        return s + '%'\n",
    "\n",
    "def draw_histograms(df, variables, n_rows, n_cols):\n",
    "    fig=plt.figure(figsize=(16, 12))\n",
    "    for i, var_name in enumerate(variables):\n",
    "        ax=fig.add_subplot(n_rows,n_cols,i+1)\n",
    "        df[var_name].hist(bins=10,ax=ax, weights=np.ones(len(df[var_name])) / len(df[var_name]))\n",
    "        ax.set_title(var_name+\" Distribution\")\n",
    "        plt.gca().yaxis.set_major_formatter(PercentFormatter(1))\n",
    "    fig.tight_layout()  # Improves appearance a bit.\n",
    "    plt.show()\n",
    "\n",
    "all_first_domain_graph = [\n",
    "    [int(i) for i in first_set_array[1:,6]], \\\n",
    "    [int(i) for i in second_set_array[1:,6]], \\\n",
    "    [int(i) for i in third_set_array[1:,6]],  \\\n",
    "    [int(i) for i in fourth_set_array[1:,6]],  \\\n",
    "    [int(i) for i in fifth_set_array[1:,6]],   \\\n",
    "    [int(i) for i in sixth_set_array[1:,6]],   \\\n",
    "    [int(i) for i in seventh_set_array[1:,6]], \\\n",
    "    [int(i) for i in eight_set_array[1:,6]]    \\\n",
    "]\n",
    "\n",
    "\n",
    "all_first_domain_graph = [list(i) for i in zip(*all_first_domain_graph)]\n",
    "graph_all_data = pd.DataFrame(all_first_domain_graph, columns=['first set', 'second set', 'third set', 'fourth set', 'fifth set', 'sixth set', 'seventh set', 'eigth set'])\n",
    "draw_histograms(graph_all_data, graph_all_data.columns, 4, 4)"
   ]
  },
  {
   "cell_type": "markdown",
   "metadata": {},
   "source": [
    "## All data"
   ]
  },
  {
   "cell_type": "code",
   "execution_count": null,
   "metadata": {},
   "outputs": [],
   "source": [
    "data = [int(i) for i in first_set_array[1:,6]] + [int(i) for i in second_set_array[1:,6]] \\\n",
    "    + [int(i) for i in third_set_array[1:,6]] + [int(i) for i in fourth_set_array[1:,6]] \\\n",
    "    + [int(i) for i in fifth_set_array[1:,6]] + [int(i) for i in sixth_set_array[1:,6]] \\\n",
    "    + [int(i) for i in seventh_set_array[1:,6]] + [int(i) for i in eight_set_array[1:,6]]\n",
    "\n",
    "data.sort()\n",
    "plt.figure(figsize=(12,5))\n",
    "plt.hist(data, weights=np.ones(len(data)) / len(data), bins=35)\n",
    "plt.gca().yaxis.set_major_formatter(PercentFormatter(1))\n",
    "plt.show()"
   ]
  }
 ],
 "metadata": {
  "kernelspec": {
   "display_name": "Python 3",
   "language": "python",
   "name": "python3"
  },
  "language_info": {
   "codemirror_mode": {
    "name": "ipython",
    "version": 3
   },
   "file_extension": ".py",
   "mimetype": "text/x-python",
   "name": "python",
   "nbconvert_exporter": "python",
   "pygments_lexer": "ipython3",
   "version": "3.5.2"
  }
 },
 "nbformat": 4,
 "nbformat_minor": 2
}
