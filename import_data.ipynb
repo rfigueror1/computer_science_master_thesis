{
 "cells": [
  {
   "cell_type": "code",
   "execution_count": null,
   "metadata": {},
   "outputs": [],
   "source": [
    "import csv\n",
    "import numpy as np"
   ]
  },
  {
   "cell_type": "code",
   "execution_count": null,
   "metadata": {},
   "outputs": [],
   "source": [
    "def import_data():\n",
    "    filename = '/data/first_set.csv'\n",
    "    with open(filename, 'rt', encoding=\"utf-8\", errors='ignore') as csvfile:\n",
    "        spamreader = csv.reader(csvfile, delimiter='\\t', quotechar='\"')\n",
    "        first_set_array = np.array([row for row in spamreader])\n",
    "\n",
    "    filename2 = '/data/dataset1.csv'\n",
    "    with open(filename2, 'rt', encoding=\"utf-8\", errors='ignore') as csvfile:\n",
    "        spamreader = csv.reader(csvfile, delimiter='\\t', quotechar='\"')\n",
    "        second_set_array = np.array([row for row in spamreader])\n",
    "\n",
    "    filename3 = '/data/dataset2.csv'\n",
    "    with open(filename3, 'rt', encoding=\"utf-8\", errors='ignore') as csvfile:\n",
    "        spamreader = csv.reader(csvfile, delimiter='\\t', quotechar='\"')\n",
    "        third_set_array = np.array([row for row in spamreader])\n",
    "\n",
    "    filename4 = '/data/dataset3.csv'\n",
    "    with open(filename4, 'rt', encoding=\"utf-8\", errors='ignore') as csvfile:\n",
    "        spamreader = csv.reader(csvfile, delimiter='\\t', quotechar='\"')\n",
    "        fourth_set_array = np.array([row for row in spamreader])\n",
    "\n",
    "    filename5 = '/data/dataset4.csv'\n",
    "    with open(filename5, 'rt', encoding=\"utf-8\", errors='ignore') as csvfile:\n",
    "        spamreader = csv.reader(csvfile, delimiter='\\t', quotechar='\"')\n",
    "        fifth_set_array = np.array([row for row in spamreader])\n",
    "\n",
    "    filename6 = '/data/dataset5.csv'\n",
    "    with open(filename6, 'rt', encoding=\"utf-8\", errors='ignore') as csvfile:\n",
    "        spamreader = csv.reader(csvfile, delimiter='\\t', quotechar='\"')\n",
    "        sixth_set_array = np.array([row for row in spamreader])\n",
    "\n",
    "    filename7 = '/data/dataset6.csv'\n",
    "    with open(filename7, 'rt', encoding=\"utf-8\", errors='ignore') as csvfile:\n",
    "        spamreader = csv.reader(csvfile, delimiter='\\t', quotechar='\"')\n",
    "        seventh_set_array = np.array([row for row in spamreader])\n",
    "\n",
    "    filename8 = '/data/dataset7.csv'\n",
    "    with open(filename8, 'rt', encoding=\"utf-8\", errors='ignore') as csvfile:\n",
    "        spamreader = csv.reader(csvfile, delimiter='\\t', quotechar='\"')\n",
    "        eight_set_array = np.array([row for row in spamreader])\n",
    "    \n",
    "    all_data = [first_set_array, second_set_array, \\ \n",
    "                third_set_array, fourth_set_array, fifth_set_array, \\\n",
    "                sixth_set_array, seventh_set_array, eight_set_array\n",
    "               ]\n",
    "    return all_data"
   ]
  }
 ],
 "metadata": {
  "kernelspec": {
   "display_name": "Python 3",
   "language": "python",
   "name": "python3"
  },
  "language_info": {
   "codemirror_mode": {
    "name": "ipython",
    "version": 3
   },
   "file_extension": ".py",
   "mimetype": "text/x-python",
   "name": "python",
   "nbconvert_exporter": "python",
   "pygments_lexer": "ipython3",
   "version": "3.5.2"
  }
 },
 "nbformat": 4,
 "nbformat_minor": 2
}
